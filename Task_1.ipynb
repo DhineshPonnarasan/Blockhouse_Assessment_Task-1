{
  "nbformat": 4,
  "nbformat_minor": 0,
  "metadata": {
    "colab": {
      "provenance": []
    },
    "kernelspec": {
      "name": "python3",
      "display_name": "Python 3"
    },
    "language_info": {
      "name": "python"
    }
  },
  "cells": [
    {
      "cell_type": "markdown",
      "source": [
        "**Task 1**"
      ],
      "metadata": {
        "id": "oP7multnb9VN"
      }
    },
    {
      "cell_type": "markdown",
      "source": [
        "**Introduction:**\n",
        "\n",
        "In financial markets, placing a market order often results in execution at multiple price levels, especially when order size exceeds the best available quote. The deviation between the execution price and the mid-price is called slippage, and it reflects the temporary price impact caused by the trade.\n",
        "\n",
        "We define the temporary impact function\n",
        "𝑔\n",
        "𝑡\n",
        "(\n",
        "𝑥\n",
        ")\n",
        "g\n",
        "t\n",
        "​\n",
        " (x) as the slippage incurred when executing an order of size\n",
        "𝑥\n",
        "x at time\n",
        "𝑡\n",
        "t. The goal of this task is to understand how to model\n",
        "𝑔\n",
        "𝑡\n",
        "(\n",
        "𝑥\n",
        ")\n",
        "g\n",
        "t\n",
        "​\n",
        " (x) using real limit order book data from three stocks: CRWV, FROG, and SOUN.\n"
      ],
      "metadata": {
        "id": "xI9owDYvca-_"
      }
    },
    {
      "cell_type": "markdown",
      "source": [
        "**Data and Methodology:**\n",
        "\n",
        "The dataset contains timestamped limit order book events for each stock, including limit order additions, trades, prices, and sizes. We extract a one-minute snapshot of the ask-side limit orders at 13:30 for each ticker and simulate market buy orders of increasing size\n",
        "𝑥\n",
        "=\n",
        "1\n",
        ",\n",
        "2\n",
        ",\n",
        ".\n",
        ".\n",
        ".\n",
        ",\n",
        "50\n",
        "x=1,2,...,50.\n",
        "\n",
        "For each\n",
        "𝑥\n",
        "x, we compute the average execution price by filling from the best ask upward, and subtract the mid-price to compute slippage\n",
        "𝑔\n",
        "𝑡\n",
        "(\n",
        "𝑥\n",
        ")\n",
        "g\n",
        "t\n",
        "​\n",
        " (x). The mid-price is estimated as the average of the maximum and minimum observed prices in the minute window.\n",
        "\n"
      ],
      "metadata": {
        "id": "bpL9eZWydWSI"
      }
    },
    {
      "cell_type": "markdown",
      "source": [
        "**Modeling\n",
        "𝑔\n",
        "𝑡\n",
        "(\n",
        "𝑥\n",
        ")\n",
        "g\n",
        "t\n",
        "​\n",
        " (x):**\n",
        "\n",
        "1. Linear Model:\n",
        "\n",
        "g\n",
        "t\n",
        "​\n",
        " (x)=β\n",
        "t\n",
        "​\n",
        " x\n",
        "\n",
        "This model assumes slippage increases proportionally with order size. It is easy to compute but fails to capture depth limitations — especially when large orders consume multiple levels.\n",
        "\n",
        "\n",
        "\n",
        "\n",
        "\n",
        "\n",
        "2. Power-Law Model:\n",
        "\n",
        "g\n",
        "t\n",
        "​\n",
        " (x)=αx\n",
        "γ\n",
        " ,γ>1\n",
        "\n",
        "This model accounts for the convex growth of slippage due to increasing scarcity of liquidity as more depth is consumed. It is more realistic than the linear model and it is also widely used in execution algorithms.\n",
        "\n",
        "\n",
        "3. Piecewise or Step-Based Model:\n",
        "This model directly simulates market order execution from the limit order book — matching what we implemented. Slippage peaks at points where order size overwhelms the volume at a single price level and must spill over into worse prices."
      ],
      "metadata": {
        "id": "J70w9AGLdj1i"
      }
    },
    {
      "cell_type": "markdown",
      "source": [
        "**Results and Observations:**\n",
        "\n",
        "More accurate than linear model and frequently used in execution algorithms.\n",
        "\n",
        "\n",
        "\n",
        " Slippage increasing at positions where order size exceeds the volume at one price level and must sUsing 13:30 data:\n",
        "\n",
        "\n",
        "\n",
        "CRWV: Slippage is very flat over orders of all sizes, suggesting deep liquidity at top levels.\n",
        "\n",
        "\n",
        "\n",
        "FROG: Slippage increasing sharply above small order sizes, with low liquidity and a highly convex g\n",
        "t\n",
        "​\n",
        " (x).\n",
        "\n",
        "\n",
        "\n",
        "\n",
        "\n",
        "SOUN: Slippage rises even for tiny orders but plateaus, possibly due to a huge spread but deep enough just beyond the best quote.\n",
        "\n",
        "\n",
        "\n",
        "These patterns have been demonstrated with plots of g\n",
        "t\n",
        "​\n",
        " (x) for each stock, and they exhibit the same effects as illustrated in the conceptual Figures 1–4 provided with the problem statement — where big orders consume several book levels and result in better execution prices.pill into worse prices\n",
        ""
      ],
      "metadata": {
        "id": "W7Osjc6Zgtxt"
      }
    },
    {
      "cell_type": "markdown",
      "source": [
        "**Conclusion:**\n",
        "\n",
        "The temporary impact function\n",
        "𝑔\n",
        "𝑡\n",
        "(\n",
        "𝑥\n",
        ")\n",
        "g\n",
        "t\n",
        "​\n",
        " (x) is best modeled as nonlinear. While a linear approximation might work for very small trades, it underestimates risk and cost at realistic trade sizes. Our simulation results support the use of a power-law or step-wise LOB-based model to accurately capture slippage.\n",
        "\n",
        "We recommend against oversimplified linear models and encourage using real-time order book data to dynamically estimate slippage using a depth-aware approach."
      ],
      "metadata": {
        "id": "of1-pOunipKD"
      }
    },
    {
      "cell_type": "code",
      "execution_count": 9,
      "metadata": {
        "id": "mEFRdvpoTly8"
      },
      "outputs": [],
      "source": [
        "import zipfile\n",
        "import os\n",
        "import pandas as pd\n",
        "import numpy as np\n",
        "import matplotlib.pyplot as plt\n",
        "import seaborn as sns\n",
        "import plotly.express as px"
      ]
    },
    {
      "cell_type": "code",
      "source": [
        "file_path = '/content/Data-20250726T110940Z-1-001.zip'\n",
        "extract_dir = '/content/extracted_data'"
      ],
      "metadata": {
        "id": "KEwfi0KdYGeH"
      },
      "execution_count": 11,
      "outputs": []
    },
    {
      "cell_type": "code",
      "source": [
        "os.makedirs(extract_dir, exist_ok=True)"
      ],
      "metadata": {
        "id": "LLOF7fqvYJYb"
      },
      "execution_count": 12,
      "outputs": []
    },
    {
      "cell_type": "code",
      "source": [
        "with zipfile.ZipFile(file_path, 'r') as zip_ref:\n",
        "    zip_ref.extractall(extract_dir)"
      ],
      "metadata": {
        "id": "gTf479iAYMhW"
      },
      "execution_count": 13,
      "outputs": []
    },
    {
      "cell_type": "code",
      "source": [
        "print(\"Files extracted:\")\n",
        "for root, dirs, files in os.walk(extract_dir):\n",
        "    for name in files:\n",
        "        print(os.path.join(root, name))\n",
        "    for name in dirs:\n",
        "         print(os.path.join(root, name))"
      ],
      "metadata": {
        "colab": {
          "base_uri": "https://localhost:8080/"
        },
        "id": "Layps27IYP23",
        "outputId": "8a96c53b-0e98-4804-b3b2-5d83e14e7cfb"
      },
      "execution_count": 14,
      "outputs": [
        {
          "output_type": "stream",
          "name": "stdout",
          "text": [
            "Files extracted:\n",
            "/content/extracted_data/Data\n",
            "/content/extracted_data/Data/CRWV.zip\n",
            "/content/extracted_data/Data/SOUN.zip\n",
            "/content/extracted_data/Data/How to use data.docx\n",
            "/content/extracted_data/Data/FROG.zip\n"
          ]
        }
      ]
    },
    {
      "cell_type": "code",
      "metadata": {
        "colab": {
          "base_uri": "https://localhost:8080/"
        },
        "id": "ca333b93",
        "outputId": "7ca510ab-cc58-49f4-ba08-b20ec9d33d3e"
      },
      "source": [
        "data_folder_path = os.path.join(extract_dir, 'Data')\n",
        "if os.path.exists(data_folder_path):\n",
        "    print(f\"\\nFiles inside {data_folder_path}:\")\n",
        "    for item in os.listdir(data_folder_path):\n",
        "        print(os.path.join(data_folder_path, item))"
      ],
      "execution_count": 15,
      "outputs": [
        {
          "output_type": "stream",
          "name": "stdout",
          "text": [
            "\n",
            "Files inside /content/extracted_data/Data:\n",
            "/content/extracted_data/Data/CRWV.zip\n",
            "/content/extracted_data/Data/SOUN.zip\n",
            "/content/extracted_data/Data/How to use data.docx\n",
            "/content/extracted_data/Data/FROG.zip\n"
          ]
        }
      ]
    },
    {
      "cell_type": "code",
      "source": [
        "datas = ['CRWV.zip', 'FROG.zip', 'SOUN.zip']\n",
        "for zip_file in datas:\n",
        "    zip_path = os.path.join(data_folder_path, zip_file)\n",
        "    datas_name = zip_file.replace('.zip', '')\n",
        "    extract_path = os.path.join(data_folder_path, datas_name)\n",
        "    os.makedirs(extract_path, exist_ok=True)\n",
        "\n",
        "    with zipfile.ZipFile(zip_path, 'r') as zip_ref:\n",
        "        zip_ref.extractall(extract_path)\n",
        "    print(f\"Extracted {datas} to {extract_path}\")"
      ],
      "metadata": {
        "colab": {
          "base_uri": "https://localhost:8080/"
        },
        "id": "RdGn6uOBYgzl",
        "outputId": "ba1a8264-8ee2-4fdb-ee1c-24a572f5f171"
      },
      "execution_count": 25,
      "outputs": [
        {
          "output_type": "stream",
          "name": "stdout",
          "text": [
            "Extracted ['CRWV.zip', 'FROG.zip', 'SOUN.zip'] to /content/extracted_data/Data/CRWV\n",
            "Extracted ['CRWV.zip', 'FROG.zip', 'SOUN.zip'] to /content/extracted_data/Data/FROG\n",
            "Extracted ['CRWV.zip', 'FROG.zip', 'SOUN.zip'] to /content/extracted_data/Data/SOUN\n"
          ]
        }
      ]
    },
    {
      "cell_type": "code",
      "source": [
        "crwv = pd.read_csv(os.path.join(data_folder_path, \"CRWV\", \"CRWV_2025-05-02 00:00:00+00:00.csv\"))\n",
        "frog = pd.read_csv(os.path.join(data_folder_path, \"FROG\", \"FROG_2025-05-02 00:00:00+00:00.csv\"))\n",
        "soun = pd.read_csv(os.path.join(data_folder_path, \"SOUN\", \"SOUN_2025-05-02 00:00:00+00:00.csv\"))"
      ],
      "metadata": {
        "id": "1hOtGdSBaKXU"
      },
      "execution_count": 19,
      "outputs": []
    },
    {
      "cell_type": "code",
      "source": [
        "print(crwv.head(5))\n",
        "print(frog.head(5))\n",
        "print(soun.head(5))"
      ],
      "metadata": {
        "colab": {
          "base_uri": "https://localhost:8080/"
        },
        "id": "KA2WsTWPaYnQ",
        "outputId": "9f541815-e2d6-4d66-e9b3-4d1d465a95c9"
      },
      "execution_count": 23,
      "outputs": [
        {
          "output_type": "stream",
          "name": "stdout",
          "text": [
            "                              ts_event                           ts_event.1  \\\n",
            "0  2025-05-02 13:30:00.385066943+00:00  2025-05-02 13:30:00.385066943+00:00   \n",
            "1  2025-05-02 13:30:00.830134278+00:00  2025-05-02 13:30:00.830134278+00:00   \n",
            "2  2025-05-02 13:30:00.830134278+00:00  2025-05-02 13:30:00.830134278+00:00   \n",
            "3  2025-05-02 13:30:00.932151709+00:00  2025-05-02 13:30:00.932151709+00:00   \n",
            "4  2025-05-02 13:30:00.934279465+00:00  2025-05-02 13:30:00.934279465+00:00   \n",
            "\n",
            "   rtype  publisher_id  instrument_id action side  depth  price  size  ...  \\\n",
            "0     10             2          20613      A    A      0  46.94   800  ...   \n",
            "1     10             2          20613      T    N      0  46.72     2  ...   \n",
            "2     10             2          20613      T    N      0  46.74     1  ...   \n",
            "3     10             2          20613      T    N      0  46.75     1  ...   \n",
            "4     10             2          20613      T    N      0  46.76     1  ...   \n",
            "\n",
            "   ask_sz_08  bid_ct_08  ask_ct_08  bid_px_09  ask_px_09  bid_sz_09  \\\n",
            "0        100          1          1      45.69       47.4         24   \n",
            "1        100          1          1      45.69       47.4         24   \n",
            "2        100          1          1      45.69       47.4         24   \n",
            "3        100          1          1      45.69       47.4         24   \n",
            "4        100          1          1      45.69       47.4         24   \n",
            "\n",
            "   ask_sz_09  bid_ct_09  ask_ct_09  symbol  \n",
            "0         10          1          1    CRWV  \n",
            "1         10          1          1    CRWV  \n",
            "2         10          1          1    CRWV  \n",
            "3         10          1          1    CRWV  \n",
            "4         10          1          1    CRWV  \n",
            "\n",
            "[5 rows x 74 columns]\n",
            "                              ts_event                           ts_event.1  \\\n",
            "0  2025-05-02 13:30:00.031068810+00:00  2025-05-02 13:30:00.031068810+00:00   \n",
            "1  2025-05-02 13:30:00.031104706+00:00  2025-05-02 13:30:00.031104706+00:00   \n",
            "2  2025-05-02 13:30:00.031111951+00:00  2025-05-02 13:30:00.031111951+00:00   \n",
            "3  2025-05-02 13:30:00.033395130+00:00  2025-05-02 13:30:00.033395130+00:00   \n",
            "4  2025-05-02 13:30:00.035230007+00:00  2025-05-02 13:30:00.035230007+00:00   \n",
            "\n",
            "   rtype  publisher_id  instrument_id action side  depth  price  size  ...  \\\n",
            "0     10             2           6292      T    N      0  34.69    10  ...   \n",
            "1     10             2           6292      A    A      5  36.89   100  ...   \n",
            "2     10             2           6292      A    B      4  33.19   100  ...   \n",
            "3     10             2           6292      A    A      0  35.74     1  ...   \n",
            "4     10             2           6292      C    A      6  36.89   100  ...   \n",
            "\n",
            "   ask_sz_08  bid_ct_08  ask_ct_08  bid_px_09  ask_px_09  bid_sz_09  \\\n",
            "0       1000          3          3      32.00      37.75        117   \n",
            "1       1000          3          3      32.00      37.75        117   \n",
            "2       1000          1          3      32.01      37.75        115   \n",
            "3         10          1          1      32.01      37.44        115   \n",
            "4         10          1          1      32.01      37.44        115   \n",
            "\n",
            "   ask_sz_09  bid_ct_09  ask_ct_09  symbol  \n",
            "0         10          3          1    FROG  \n",
            "1         10          3          1    FROG  \n",
            "2         10          3          1    FROG  \n",
            "3       1000          3          3    FROG  \n",
            "4       1000          3          3    FROG  \n",
            "\n",
            "[5 rows x 74 columns]\n",
            "                              ts_event                           ts_event.1  \\\n",
            "0  2025-05-02 13:30:00.014437085+00:00  2025-05-02 13:30:00.014437085+00:00   \n",
            "1  2025-05-02 13:30:00.014437085+00:00  2025-05-02 13:30:00.014437085+00:00   \n",
            "2  2025-05-02 13:30:00.014437085+00:00  2025-05-02 13:30:00.014437085+00:00   \n",
            "3  2025-05-02 13:30:00.014592343+00:00  2025-05-02 13:30:00.014592343+00:00   \n",
            "4  2025-05-02 13:30:00.014604302+00:00  2025-05-02 13:30:00.014604302+00:00   \n",
            "\n",
            "   rtype  publisher_id  instrument_id action side  depth  price  size  ...  \\\n",
            "0     10             2          14993      T    A      0   9.29   500  ...   \n",
            "1     10             2          14993      T    A      0   9.29    10  ...   \n",
            "2     10             2          14993      C    B      0   9.29    10  ...   \n",
            "3     10             2          14993      A    A      0   9.52   100  ...   \n",
            "4     10             2          14993      A    A      0   9.31    84  ...   \n",
            "\n",
            "   ask_sz_08  bid_ct_08  ask_ct_08  bid_px_09  ask_px_09  bid_sz_09  \\\n",
            "0         12          7          1       9.19       9.47        100   \n",
            "1         12          7          1       9.19       9.47        100   \n",
            "2         12          1          1       9.18       9.47       1401   \n",
            "3         12          1          1       9.18       9.46       1401   \n",
            "4         12          1          1       9.18       9.46       1401   \n",
            "\n",
            "   ask_sz_09  bid_ct_09  ask_ct_09  symbol  \n",
            "0         12          1          1    SOUN  \n",
            "1         12          1          1    SOUN  \n",
            "2         12          4          1    SOUN  \n",
            "3         12          4          1    SOUN  \n",
            "4         12          4          1    SOUN  \n",
            "\n",
            "[5 rows x 74 columns]\n"
          ]
        }
      ]
    },
    {
      "cell_type": "code",
      "source": [
        "def plot_impact(df, name):\n",
        "    df['ts'] = pd.to_datetime(df['ts_event'])\n",
        "    start = pd.Timestamp('2025-05-02 13:30:00+00:00')\n",
        "    end = start + pd.Timedelta(minutes=1)\n",
        "    sub = df[(df['ts'] >= start) & (df['ts'] < end)]\n",
        "    sub = sub[(sub['action'] == 'A') & (sub['side'] == 'A')]\n",
        "    book = sub.groupby('price')['size'].sum().sort_index()\n",
        "\n",
        "    x_vals = []\n",
        "    g_vals = []\n",
        "\n",
        "    for x in range(1, 51):\n",
        "        left = x\n",
        "        cost = 0\n",
        "        for price, size in book.items():\n",
        "            take = min(size, left)\n",
        "            cost += take * price\n",
        "            left -= take\n",
        "            if left <= 0:\n",
        "                break\n",
        "        if left > 0:\n",
        "            g_vals.append(None)\n",
        "        else:\n",
        "            avg_price = cost / x\n",
        "            mid = (df['price'].max() + df['price'].min()) / 2\n",
        "            slippage = avg_price - mid\n",
        "            x_vals.append(x)\n",
        "            g_vals.append(slippage)\n",
        "\n",
        "    plt.plot(x_vals, g_vals, label=name)"
      ],
      "metadata": {
        "id": "qS9brKCVadAd"
      },
      "execution_count": 31,
      "outputs": []
    },
    {
      "cell_type": "code",
      "source": [
        "plot_impact(crwv, 'CRWV')\n",
        "plot_impact(frog, 'FROG')\n",
        "plot_impact(soun, 'SOUN')\n",
        "plt.title('Temporary Impact g_t(x) at 13:30')\n",
        "plt.xlabel('Order Size x')\n",
        "plt.ylabel('Slippage g_t(x)')\n",
        "plt.legend()\n",
        "plt.grid(True)\n",
        "plt.tight_layout()\n",
        "plt.show()"
      ],
      "metadata": {
        "colab": {
          "base_uri": "https://localhost:8080/",
          "height": 487
        },
        "id": "i3V9lC5KbkGU",
        "outputId": "3111d56c-8f8d-4654-a2cc-e8f55b590b98"
      },
      "execution_count": 34,
      "outputs": [
        {
          "output_type": "display_data",
          "data": {
            "text/plain": [
              "<Figure size 640x480 with 1 Axes>"
            ],
            "image/png": "[encoded data removed]"
          },
          "metadata": {}
        }
      ]
    },
    {
      "cell_type": "code",
      "source": [],
      "metadata": {
        "id": "f-IRE5RFbw2n"
      },
      "execution_count": null,
      "outputs": []
    }
  ]
}